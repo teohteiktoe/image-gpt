{
 "cells": [
  {
   "cell_type": "code",
   "execution_count": 1,
   "id": "e5f69ac5",
   "metadata": {},
   "outputs": [
    {
     "name": "stdout",
     "output_type": "stream",
     "text": [
      " * Serving Flask app \"__main__\" (lazy loading)\n",
      " * Environment: production\n",
      "\u001b[31m   WARNING: This is a development server. Do not use it in a production deployment.\u001b[0m\n",
      "\u001b[2m   Use a production WSGI server instead.\u001b[0m\n",
      " * Debug mode: off\n"
     ]
    },
    {
     "name": "stderr",
     "output_type": "stream",
     "text": [
      " * Running on http://127.0.0.1:5000/ (Press CTRL+C to quit)\n",
      "127.0.0.1 - - [12/Mar/2023 09:56:07] \"GET / HTTP/1.1\" 200 -\n",
      "127.0.0.1 - - [12/Mar/2023 09:56:18] \"POST / HTTP/1.1\" 200 -\n"
     ]
    }
   ],
   "source": [
    "from flask import Flask,render_template,request\n",
    "import replicate,os\n",
    "\n",
    "app = Flask(__name__)\n",
    "\n",
    "@app.route(\"/\",methods=[\"GET\",\"POST\"])\n",
    "def index():\n",
    "    if request.method == \"POST\":\n",
    "        t = request.form.get(\"txt\")\n",
    "        os.environ[\"REPLICATE_API_TOKEN\"] = \"787f515cb0624813736c11e7fefec66473394f02\"\n",
    "        model = replicate.models.get(\"tstramer/midjourney-diffusion\")\n",
    "        version = model.versions.get(\"436b051ebd8f68d23e83d22de5e198e0995357afef113768c20f0b6fcef23c8b\")\n",
    "        inputs = {'prompt': t, 'height':256, 'width':256}\n",
    "        output = version.predict(**inputs)\n",
    "        return(render_template(\"index.html\",result=output))\n",
    "    else:\n",
    "        return(render_template(\"index.html\",result=\"waiting\"))\n",
    "\n",
    "if __name__ == \"__main__\":\n",
    "    app.run()\n"
   ]
  },
  {
   "cell_type": "code",
   "execution_count": null,
   "id": "306d6582",
   "metadata": {},
   "outputs": [],
   "source": []
  }
 ],
 "metadata": {
  "kernelspec": {
   "display_name": "Python 3 (ipykernel)",
   "language": "python",
   "name": "python3"
  },
  "language_info": {
   "codemirror_mode": {
    "name": "ipython",
    "version": 3
   },
   "file_extension": ".py",
   "mimetype": "text/x-python",
   "name": "python",
   "nbconvert_exporter": "python",
   "pygments_lexer": "ipython3",
   "version": "3.9.12"
  }
 },
 "nbformat": 4,
 "nbformat_minor": 5
}
